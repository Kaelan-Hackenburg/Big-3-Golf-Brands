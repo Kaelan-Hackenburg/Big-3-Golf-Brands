{
 "cells": [
  {
   "cell_type": "code",
   "execution_count": 1,
   "metadata": {},
   "outputs": [],
   "source": [
    "import json\n",
    "import csv\n",
    "import tweepy\n",
    "import re"
   ]
  },
  {
   "cell_type": "code",
   "execution_count": 2,
   "metadata": {},
   "outputs": [],
   "source": [
    "def pfizer(api_key, api_secret, access_token, access_secret, desired_hashtag):\n",
    "    # Create Authentication\n",
    "    auth = tweepy.OAuthHandler(api_key, api_secret)\n",
    "    auth.set_access_token(access_token, access_secret)\n",
    "    # Initialize Tweepy API\n",
    "    api = tweepy.API(auth)\n",
    "    \n",
    "    # Create the spreadsheet name\n",
    "    file_name = \"_\".join(re.findall(r\"#(\\w+)\", desired_hashtag))\n",
    "    \n",
    "    # Open spreadsheet\n",
    "    with open('%s.csv' % (file_name), 'w') as file:\n",
    "        write = csv.writer(file)\n",
    "        \n",
    "        # Write the header (column) names\n",
    "        write.writerow(['Time Created', 'Tweet_Text', 'Username', \n",
    "                        'Additional Hashtags', 'Account Followers', \n",
    "                        'Number Retweets', 'Number Likes'])\n",
    "        \n",
    "        # Add tweets to spreadsheet\n",
    "        for tweet in tweepy.Cursor(api.search, q = desired_hashtag+ ' -filter:retweets', \\\n",
    "                                  lang = \"en\", tweet_mode = \"extended\").items(2000):\n",
    "            write.writerow([tweet.created_at, tweet.full_text.replace('\\n', ' ').encode('utf-8'), tweet.user.screen_name.encode('utf-8'), [e['text'] for e in tweet._json['entities']['hashtags']], tweet.user.followers_count, tweet.retweet_count, tweet.favorite_count])\n",
    "            "
   ]
  },
  {
   "cell_type": "code",
   "execution_count": null,
   "metadata": {},
   "outputs": [],
   "source": [
    "# ENTER THE NECESSARY INFORMATION BELOW\n",
    "api_key = input('API Key: ')\n",
    "api_secret = input('API Secret: ')\n",
    "access_token = input('Access Token: ')\n",
    "access_secret = input('Access Secret: ')\n",
    "desired_hashtag = input('Desired Hashtag(s): ')\n",
    "\n",
    "if __name__ == '__main__':\n",
    "    pfizer(api_key, api_secret, access_token, access_secret, desired_hashtag)"
   ]
  },
  {
   "cell_type": "code",
   "execution_count": null,
   "metadata": {},
   "outputs": [],
   "source": []
  },
  {
   "cell_type": "code",
   "execution_count": null,
   "metadata": {},
   "outputs": [],
   "source": []
  },
  {
   "cell_type": "code",
   "execution_count": null,
   "metadata": {},
   "outputs": [],
   "source": []
  },
  {
   "cell_type": "code",
   "execution_count": null,
   "metadata": {},
   "outputs": [],
   "source": []
  },
  {
   "cell_type": "code",
   "execution_count": null,
   "metadata": {},
   "outputs": [],
   "source": []
  },
  {
   "cell_type": "code",
   "execution_count": null,
   "metadata": {},
   "outputs": [],
   "source": []
  },
  {
   "cell_type": "code",
   "execution_count": null,
   "metadata": {},
   "outputs": [],
   "source": []
  },
  {
   "cell_type": "code",
   "execution_count": null,
   "metadata": {},
   "outputs": [],
   "source": []
  },
  {
   "cell_type": "code",
   "execution_count": null,
   "metadata": {},
   "outputs": [],
   "source": []
  },
  {
   "cell_type": "code",
   "execution_count": null,
   "metadata": {},
   "outputs": [],
   "source": []
  },
  {
   "cell_type": "code",
   "execution_count": null,
   "metadata": {},
   "outputs": [],
   "source": []
  },
  {
   "cell_type": "code",
   "execution_count": null,
   "metadata": {},
   "outputs": [],
   "source": []
  }
 ],
 "metadata": {
  "kernelspec": {
   "display_name": "Python 3",
   "language": "python",
   "name": "python3"
  },
  "language_info": {
   "codemirror_mode": {
    "name": "ipython",
    "version": 3
   },
   "file_extension": ".py",
   "mimetype": "text/x-python",
   "name": "python",
   "nbconvert_exporter": "python",
   "pygments_lexer": "ipython3",
   "version": "3.8.5"
  }
 },
 "nbformat": 4,
 "nbformat_minor": 4
}
